{
 "cells": [
  {
   "cell_type": "markdown",
   "metadata": {},
   "source": [
    "# Importing Modules"
   ]
  },
  {
   "cell_type": "code",
   "execution_count": 1,
   "metadata": {},
   "outputs": [],
   "source": [
    "import numpy as np\n",
    "import pandas as pd\n",
    "import matplotlib.pyplot as plt\n",
    "import nltk\n",
    "import re\n",
    "import seaborn as sns\n",
    "38\n",
    "\n",
    "import warnings\n",
    "warnings.simplefilter('ignore')"
   ]
  },
  {
   "cell_type": "markdown",
   "metadata": {},
   "source": [
    "# Reading the Files"
   ]
  },
  {
   "cell_type": "markdown",
   "metadata": {},
   "source": [
    "Training Dataset"
   ]
  },
  {
   "cell_type": "code",
   "execution_count": 2,
   "metadata": {},
   "outputs": [
    {
     "data": {
      "text/html": [
       "<div>\n",
       "<style scoped>\n",
       "    .dataframe tbody tr th:only-of-type {\n",
       "        vertical-align: middle;\n",
       "    }\n",
       "\n",
       "    .dataframe tbody tr th {\n",
       "        vertical-align: top;\n",
       "    }\n",
       "\n",
       "    .dataframe thead th {\n",
       "        text-align: right;\n",
       "    }\n",
       "</style>\n",
       "<table border=\"1\" class=\"dataframe\">\n",
       "  <thead>\n",
       "    <tr style=\"text-align: right;\">\n",
       "      <th></th>\n",
       "      <th>0</th>\n",
       "      <th>1</th>\n",
       "      <th>2</th>\n",
       "    </tr>\n",
       "  </thead>\n",
       "  <tbody>\n",
       "    <tr>\n",
       "      <th>6670</th>\n",
       "      <td>4439</td>\n",
       "      <td>\"All my tests and researches made be waste two...</td>\n",
       "      <td>0</td>\n",
       "    </tr>\n",
       "    <tr>\n",
       "      <th>4517</th>\n",
       "      <td>967_18</td>\n",
       "      <td>\"If you have seen the google store they show a...</td>\n",
       "      <td>0</td>\n",
       "    </tr>\n",
       "    <tr>\n",
       "      <th>1458</th>\n",
       "      <td>1450_1</td>\n",
       "      <td>\"It would be great to have this feature.\"</td>\n",
       "      <td>1</td>\n",
       "    </tr>\n",
       "    <tr>\n",
       "      <th>4449</th>\n",
       "      <td>957_1</td>\n",
       "      <td>\"Many times I've read reviews for apps and dec...</td>\n",
       "      <td>0</td>\n",
       "    </tr>\n",
       "    <tr>\n",
       "      <th>5906</th>\n",
       "      <td>2270</td>\n",
       "      <td>\"But it causes a context switch from native-&gt;....</td>\n",
       "      <td>0</td>\n",
       "    </tr>\n",
       "    <tr>\n",
       "      <th>2632</th>\n",
       "      <td>0_139</td>\n",
       "      <td>\"Thank you.\"</td>\n",
       "      <td>0</td>\n",
       "    </tr>\n",
       "    <tr>\n",
       "      <th>4622</th>\n",
       "      <td>991_1</td>\n",
       "      <td>\"Please using Nokia Map API, Nokia Music Api a...</td>\n",
       "      <td>1</td>\n",
       "    </tr>\n",
       "    <tr>\n",
       "      <th>3230</th>\n",
       "      <td>0_813</td>\n",
       "      <td>\"Requirement: Phone automatically set ringer t...</td>\n",
       "      <td>1</td>\n",
       "    </tr>\n",
       "    <tr>\n",
       "      <th>6994</th>\n",
       "      <td>4660</td>\n",
       "      <td>\"The documentation indicates that it should be...</td>\n",
       "      <td>0</td>\n",
       "    </tr>\n",
       "    <tr>\n",
       "      <th>567</th>\n",
       "      <td>827_1</td>\n",
       "      <td>\"2) GetPositionAsync() and GetGeopositionAsync...</td>\n",
       "      <td>0</td>\n",
       "    </tr>\n",
       "  </tbody>\n",
       "</table>\n",
       "</div>"
      ],
      "text/plain": [
       "           0                                                  1  2\n",
       "6670    4439  \"All my tests and researches made be waste two...  0\n",
       "4517  967_18  \"If you have seen the google store they show a...  0\n",
       "1458  1450_1          \"It would be great to have this feature.\"  1\n",
       "4449   957_1  \"Many times I've read reviews for apps and dec...  0\n",
       "5906    2270  \"But it causes a context switch from native->....  0\n",
       "2632   0_139                                       \"Thank you.\"  0\n",
       "4622   991_1  \"Please using Nokia Map API, Nokia Music Api a...  1\n",
       "3230   0_813  \"Requirement: Phone automatically set ringer t...  1\n",
       "6994    4660  \"The documentation indicates that it should be...  0\n",
       "567    827_1  \"2) GetPositionAsync() and GetGeopositionAsync...  0"
      ]
     },
     "execution_count": 2,
     "metadata": {},
     "output_type": "execute_result"
    }
   ],
   "source": [
    "Train=pd.read_csv(\"V1.4_Training.csv\",header=None)\n",
    "Train.sample(10)"
   ]
  },
  {
   "cell_type": "markdown",
   "metadata": {},
   "source": [
    "Test Dataset"
   ]
  },
  {
   "cell_type": "code",
   "execution_count": 3,
   "metadata": {},
   "outputs": [
    {
     "data": {
      "text/html": [
       "<div>\n",
       "<style scoped>\n",
       "    .dataframe tbody tr th:only-of-type {\n",
       "        vertical-align: middle;\n",
       "    }\n",
       "\n",
       "    .dataframe tbody tr th {\n",
       "        vertical-align: top;\n",
       "    }\n",
       "\n",
       "    .dataframe thead th {\n",
       "        text-align: right;\n",
       "    }\n",
       "</style>\n",
       "<table border=\"1\" class=\"dataframe\">\n",
       "  <thead>\n",
       "    <tr style=\"text-align: right;\">\n",
       "      <th></th>\n",
       "      <th>0</th>\n",
       "      <th>1</th>\n",
       "      <th>2</th>\n",
       "    </tr>\n",
       "  </thead>\n",
       "  <tbody>\n",
       "    <tr>\n",
       "      <th>184</th>\n",
       "      <td>14354</td>\n",
       "      <td>\"Users receive a strange marketplace error whe...</td>\n",
       "      <td>X</td>\n",
       "    </tr>\n",
       "    <tr>\n",
       "      <th>117</th>\n",
       "      <td>138310</td>\n",
       "      <td>\"I know this is a pain on developers that are ...</td>\n",
       "      <td>X</td>\n",
       "    </tr>\n",
       "    <tr>\n",
       "      <th>292</th>\n",
       "      <td>15334</td>\n",
       "      <td>\"when an alarm pops up an option to edit the r...</td>\n",
       "      <td>X</td>\n",
       "    </tr>\n",
       "    <tr>\n",
       "      <th>293</th>\n",
       "      <td>15361</td>\n",
       "      <td>\"I need a posibility to set the keyboard langu...</td>\n",
       "      <td>X</td>\n",
       "    </tr>\n",
       "    <tr>\n",
       "      <th>210</th>\n",
       "      <td>14492</td>\n",
       "      <td>\"Visual Studio 11 and new Expression Blend.\"</td>\n",
       "      <td>X</td>\n",
       "    </tr>\n",
       "    <tr>\n",
       "      <th>70</th>\n",
       "      <td>13539</td>\n",
       "      <td>\"You can't add/update/delete alarms or reminde...</td>\n",
       "      <td>X</td>\n",
       "    </tr>\n",
       "    <tr>\n",
       "      <th>406</th>\n",
       "      <td>15951</td>\n",
       "      <td>\"Let us call codes *...# I think it's one of t...</td>\n",
       "      <td>X</td>\n",
       "    </tr>\n",
       "    <tr>\n",
       "      <th>512</th>\n",
       "      <td>16276</td>\n",
       "      <td>\"when holding my phone in one hand, the palm o...</td>\n",
       "      <td>X</td>\n",
       "    </tr>\n",
       "    <tr>\n",
       "      <th>267</th>\n",
       "      <td>151416</td>\n",
       "      <td>\"I want to be able to add a picture to the med...</td>\n",
       "      <td>X</td>\n",
       "    </tr>\n",
       "    <tr>\n",
       "      <th>328</th>\n",
       "      <td>15492</td>\n",
       "      <td>\"I'd like to have tiles of various colours on ...</td>\n",
       "      <td>X</td>\n",
       "    </tr>\n",
       "  </tbody>\n",
       "</table>\n",
       "</div>"
      ],
      "text/plain": [
       "          0                                                  1  2\n",
       "184   14354  \"Users receive a strange marketplace error whe...  X\n",
       "117  138310  \"I know this is a pain on developers that are ...  X\n",
       "292   15334  \"when an alarm pops up an option to edit the r...  X\n",
       "293   15361  \"I need a posibility to set the keyboard langu...  X\n",
       "210   14492       \"Visual Studio 11 and new Expression Blend.\"  X\n",
       "70    13539  \"You can't add/update/delete alarms or reminde...  X\n",
       "406   15951  \"Let us call codes *...# I think it's one of t...  X\n",
       "512   16276  \"when holding my phone in one hand, the palm o...  X\n",
       "267  151416  \"I want to be able to add a picture to the med...  X\n",
       "328   15492  \"I'd like to have tiles of various colours on ...  X"
      ]
     },
     "execution_count": 3,
     "metadata": {},
     "output_type": "execute_result"
    }
   ],
   "source": [
    "Test=pd.read_csv(\"SubtaskA_Trial_Test.csv\",header=None)\n",
    "Test.sample(10)"
   ]
  },
  {
   "cell_type": "markdown",
   "metadata": {},
   "source": [
    "Replacing string \"X\" into integer 5 to differenciate it from Train and Evaluation Dataset"
   ]
  },
  {
   "cell_type": "code",
   "execution_count": 4,
   "metadata": {},
   "outputs": [
    {
     "data": {
      "text/html": [
       "<div>\n",
       "<style scoped>\n",
       "    .dataframe tbody tr th:only-of-type {\n",
       "        vertical-align: middle;\n",
       "    }\n",
       "\n",
       "    .dataframe tbody tr th {\n",
       "        vertical-align: top;\n",
       "    }\n",
       "\n",
       "    .dataframe thead th {\n",
       "        text-align: right;\n",
       "    }\n",
       "</style>\n",
       "<table border=\"1\" class=\"dataframe\">\n",
       "  <thead>\n",
       "    <tr style=\"text-align: right;\">\n",
       "      <th></th>\n",
       "      <th>0</th>\n",
       "      <th>1</th>\n",
       "      <th>2</th>\n",
       "    </tr>\n",
       "  </thead>\n",
       "  <tbody>\n",
       "    <tr>\n",
       "      <th>569</th>\n",
       "      <td>16421</td>\n",
       "      <td>\"too slow and too little possibilities\"</td>\n",
       "      <td>5</td>\n",
       "    </tr>\n",
       "    <tr>\n",
       "      <th>200</th>\n",
       "      <td>14439</td>\n",
       "      <td>\"Allow the BackgroundAudioPlayer to play track...</td>\n",
       "      <td>5</td>\n",
       "    </tr>\n",
       "    <tr>\n",
       "      <th>219</th>\n",
       "      <td>14523</td>\n",
       "      <td>\"Link to sql is not efficient at all, could th...</td>\n",
       "      <td>5</td>\n",
       "    </tr>\n",
       "    <tr>\n",
       "      <th>99</th>\n",
       "      <td>13765</td>\n",
       "      <td>\"Same time, WP7 registration intends we MUST u...</td>\n",
       "      <td>5</td>\n",
       "    </tr>\n",
       "    <tr>\n",
       "      <th>169</th>\n",
       "      <td>14293</td>\n",
       "      <td>\"Implement Soundwave touchless api on the phon...</td>\n",
       "      <td>5</td>\n",
       "    </tr>\n",
       "    <tr>\n",
       "      <th>248</th>\n",
       "      <td>148512</td>\n",
       "      <td>\"Please consider to enable support for unsafe ...</td>\n",
       "      <td>5</td>\n",
       "    </tr>\n",
       "    <tr>\n",
       "      <th>519</th>\n",
       "      <td>162713</td>\n",
       "      <td>\"Emails are non editable while\"</td>\n",
       "      <td>5</td>\n",
       "    </tr>\n",
       "    <tr>\n",
       "      <th>513</th>\n",
       "      <td>16277</td>\n",
       "      <td>\"is there any possibilty that these 3 controls...</td>\n",
       "      <td>5</td>\n",
       "    </tr>\n",
       "    <tr>\n",
       "      <th>229</th>\n",
       "      <td>14663</td>\n",
       "      <td>\"If it were possible to tell the task to show ...</td>\n",
       "      <td>5</td>\n",
       "    </tr>\n",
       "    <tr>\n",
       "      <th>367</th>\n",
       "      <td>15736</td>\n",
       "      <td>\"The biggest problem I almost exclusively run ...</td>\n",
       "      <td>5</td>\n",
       "    </tr>\n",
       "  </tbody>\n",
       "</table>\n",
       "</div>"
      ],
      "text/plain": [
       "          0                                                  1  2\n",
       "569   16421            \"too slow and too little possibilities\"  5\n",
       "200   14439  \"Allow the BackgroundAudioPlayer to play track...  5\n",
       "219   14523  \"Link to sql is not efficient at all, could th...  5\n",
       "99    13765  \"Same time, WP7 registration intends we MUST u...  5\n",
       "169   14293  \"Implement Soundwave touchless api on the phon...  5\n",
       "248  148512  \"Please consider to enable support for unsafe ...  5\n",
       "519  162713                    \"Emails are non editable while\"  5\n",
       "513   16277  \"is there any possibilty that these 3 controls...  5\n",
       "229   14663  \"If it were possible to tell the task to show ...  5\n",
       "367   15736  \"The biggest problem I almost exclusively run ...  5"
      ]
     },
     "execution_count": 4,
     "metadata": {},
     "output_type": "execute_result"
    }
   ],
   "source": [
    "Test[2] = 5\n",
    "Test.sample(10)"
   ]
  },
  {
   "cell_type": "markdown",
   "metadata": {},
   "source": [
    "Evaluation Dataset"
   ]
  },
  {
   "cell_type": "code",
   "execution_count": 5,
   "metadata": {},
   "outputs": [
    {
     "data": {
      "text/html": [
       "<div>\n",
       "<style scoped>\n",
       "    .dataframe tbody tr th:only-of-type {\n",
       "        vertical-align: middle;\n",
       "    }\n",
       "\n",
       "    .dataframe tbody tr th {\n",
       "        vertical-align: top;\n",
       "    }\n",
       "\n",
       "    .dataframe thead th {\n",
       "        text-align: right;\n",
       "    }\n",
       "</style>\n",
       "<table border=\"1\" class=\"dataframe\">\n",
       "  <thead>\n",
       "    <tr style=\"text-align: right;\">\n",
       "      <th></th>\n",
       "      <th>0</th>\n",
       "      <th>1</th>\n",
       "      <th>2</th>\n",
       "    </tr>\n",
       "  </thead>\n",
       "  <tbody>\n",
       "    <tr>\n",
       "      <th>452</th>\n",
       "      <td>5169</td>\n",
       "      <td>if you try to open an file by file type associ...</td>\n",
       "      <td>X</td>\n",
       "    </tr>\n",
       "    <tr>\n",
       "      <th>535</th>\n",
       "      <td>5398</td>\n",
       "      <td>No more options are there.</td>\n",
       "      <td>X</td>\n",
       "    </tr>\n",
       "    <tr>\n",
       "      <th>553</th>\n",
       "      <td>5467</td>\n",
       "      <td>9) Rule planet Earth with your new-found power...</td>\n",
       "      <td>X</td>\n",
       "    </tr>\n",
       "    <tr>\n",
       "      <th>442</th>\n",
       "      <td>5141</td>\n",
       "      <td>You can install those Android apps yourself.</td>\n",
       "      <td>X</td>\n",
       "    </tr>\n",
       "    <tr>\n",
       "      <th>531</th>\n",
       "      <td>5392</td>\n",
       "      <td>When UWP app has a Splash Screen with transpar...</td>\n",
       "      <td>X</td>\n",
       "    </tr>\n",
       "    <tr>\n",
       "      <th>163</th>\n",
       "      <td>3956</td>\n",
       "      <td>* Allow the user to select items drag them aro...</td>\n",
       "      <td>X</td>\n",
       "    </tr>\n",
       "  </tbody>\n",
       "</table>\n",
       "</div>"
      ],
      "text/plain": [
       "        0                                                  1  2\n",
       "452  5169  if you try to open an file by file type associ...  X\n",
       "535  5398                         No more options are there.  X\n",
       "553  5467  9) Rule planet Earth with your new-found power...  X\n",
       "442  5141       You can install those Android apps yourself.  X\n",
       "531  5392  When UWP app has a Splash Screen with transpar...  X\n",
       "163  3956  * Allow the user to select items drag them aro...  X"
      ]
     },
     "execution_count": 5,
     "metadata": {},
     "output_type": "execute_result"
    }
   ],
   "source": [
    "Eval=pd.read_csv(\"SubtaskA_EvaluationData.csv\",header=None)\n",
    "Eval.sample(6)"
   ]
  },
  {
   "cell_type": "markdown",
   "metadata": {},
   "source": [
    "Replacing string \"X\" into integer 6 to differenciate it from Train and Test Dataset"
   ]
  },
  {
   "cell_type": "code",
   "execution_count": 6,
   "metadata": {},
   "outputs": [
    {
     "data": {
      "text/html": [
       "<div>\n",
       "<style scoped>\n",
       "    .dataframe tbody tr th:only-of-type {\n",
       "        vertical-align: middle;\n",
       "    }\n",
       "\n",
       "    .dataframe tbody tr th {\n",
       "        vertical-align: top;\n",
       "    }\n",
       "\n",
       "    .dataframe thead th {\n",
       "        text-align: right;\n",
       "    }\n",
       "</style>\n",
       "<table border=\"1\" class=\"dataframe\">\n",
       "  <thead>\n",
       "    <tr style=\"text-align: right;\">\n",
       "      <th></th>\n",
       "      <th>0</th>\n",
       "      <th>1</th>\n",
       "      <th>2</th>\n",
       "    </tr>\n",
       "  </thead>\n",
       "  <tbody>\n",
       "    <tr>\n",
       "      <th>192</th>\n",
       "      <td>4256</td>\n",
       "      <td>This feature is implemented in the accessory A...</td>\n",
       "      <td>6</td>\n",
       "    </tr>\n",
       "    <tr>\n",
       "      <th>124</th>\n",
       "      <td>3390</td>\n",
       "      <td>I'm creating app using face detection.</td>\n",
       "      <td>6</td>\n",
       "    </tr>\n",
       "    <tr>\n",
       "      <th>61</th>\n",
       "      <td>10677</td>\n",
       "      <td>And a smart dialer can then be a full alternat...</td>\n",
       "      <td>6</td>\n",
       "    </tr>\n",
       "    <tr>\n",
       "      <th>731</th>\n",
       "      <td>5995</td>\n",
       "      <td>The link above is a Sway that explains my sugg...</td>\n",
       "      <td>6</td>\n",
       "    </tr>\n",
       "    <tr>\n",
       "      <th>10</th>\n",
       "      <td>9630</td>\n",
       "      <td>Also I would be fun to have a record showing t...</td>\n",
       "      <td>6</td>\n",
       "    </tr>\n",
       "    <tr>\n",
       "      <th>32</th>\n",
       "      <td>9978</td>\n",
       "      <td>SharpDX proves that those key technologies can...</td>\n",
       "      <td>6</td>\n",
       "    </tr>\n",
       "    <tr>\n",
       "      <th>693</th>\n",
       "      <td>5833</td>\n",
       "      <td>I just found that reading the property of Syst...</td>\n",
       "      <td>6</td>\n",
       "    </tr>\n",
       "    <tr>\n",
       "      <th>107</th>\n",
       "      <td>3243</td>\n",
       "      <td>The following streams are available on the PC:</td>\n",
       "      <td>6</td>\n",
       "    </tr>\n",
       "    <tr>\n",
       "      <th>520</th>\n",
       "      <td>5344</td>\n",
       "      <td>I made a simple test code using KOREAN language.</td>\n",
       "      <td>6</td>\n",
       "    </tr>\n",
       "    <tr>\n",
       "      <th>29</th>\n",
       "      <td>9873</td>\n",
       "      <td>It will even allow seamless migration to new h...</td>\n",
       "      <td>6</td>\n",
       "    </tr>\n",
       "  </tbody>\n",
       "</table>\n",
       "</div>"
      ],
      "text/plain": [
       "         0                                                  1  2\n",
       "192   4256  This feature is implemented in the accessory A...  6\n",
       "124   3390             I'm creating app using face detection.  6\n",
       "61   10677  And a smart dialer can then be a full alternat...  6\n",
       "731   5995  The link above is a Sway that explains my sugg...  6\n",
       "10    9630  Also I would be fun to have a record showing t...  6\n",
       "32    9978  SharpDX proves that those key technologies can...  6\n",
       "693   5833  I just found that reading the property of Syst...  6\n",
       "107   3243     The following streams are available on the PC:  6\n",
       "520   5344   I made a simple test code using KOREAN language.  6\n",
       "29    9873  It will even allow seamless migration to new h...  6"
      ]
     },
     "execution_count": 6,
     "metadata": {},
     "output_type": "execute_result"
    }
   ],
   "source": [
    "Eval[2] = 6\n",
    "Eval.sample(10)"
   ]
  },
  {
   "cell_type": "code",
   "execution_count": 7,
   "metadata": {},
   "outputs": [
    {
     "data": {
      "text/html": [
       "<div>\n",
       "<style scoped>\n",
       "    .dataframe tbody tr th:only-of-type {\n",
       "        vertical-align: middle;\n",
       "    }\n",
       "\n",
       "    .dataframe tbody tr th {\n",
       "        vertical-align: top;\n",
       "    }\n",
       "\n",
       "    .dataframe thead th {\n",
       "        text-align: right;\n",
       "    }\n",
       "</style>\n",
       "<table border=\"1\" class=\"dataframe\">\n",
       "  <thead>\n",
       "    <tr style=\"text-align: right;\">\n",
       "      <th></th>\n",
       "      <th>1</th>\n",
       "    </tr>\n",
       "  </thead>\n",
       "  <tbody>\n",
       "    <tr>\n",
       "      <th>count</th>\n",
       "      <td>833</td>\n",
       "    </tr>\n",
       "    <tr>\n",
       "      <th>unique</th>\n",
       "      <td>833</td>\n",
       "    </tr>\n",
       "    <tr>\n",
       "      <th>top</th>\n",
       "      <td>After all drag/drop is a conscious user intera...</td>\n",
       "    </tr>\n",
       "    <tr>\n",
       "      <th>freq</th>\n",
       "      <td>1</td>\n",
       "    </tr>\n",
       "  </tbody>\n",
       "</table>\n",
       "</div>"
      ],
      "text/plain": [
       "                                                        1\n",
       "count                                                 833\n",
       "unique                                                833\n",
       "top     After all drag/drop is a conscious user intera...\n",
       "freq                                                    1"
      ]
     },
     "execution_count": 7,
     "metadata": {},
     "output_type": "execute_result"
    }
   ],
   "source": [
    "Eval.describe(include=['O'])"
   ]
  },
  {
   "cell_type": "markdown",
   "metadata": {},
   "source": [
    "# Joining the DataSets"
   ]
  },
  {
   "cell_type": "code",
   "execution_count": 8,
   "metadata": {},
   "outputs": [
    {
     "data": {
      "text/html": [
       "<div>\n",
       "<style scoped>\n",
       "    .dataframe tbody tr th:only-of-type {\n",
       "        vertical-align: middle;\n",
       "    }\n",
       "\n",
       "    .dataframe tbody tr th {\n",
       "        vertical-align: top;\n",
       "    }\n",
       "\n",
       "    .dataframe thead th {\n",
       "        text-align: right;\n",
       "    }\n",
       "</style>\n",
       "<table border=\"1\" class=\"dataframe\">\n",
       "  <thead>\n",
       "    <tr style=\"text-align: right;\">\n",
       "      <th></th>\n",
       "      <th>0</th>\n",
       "      <th>1</th>\n",
       "      <th>2</th>\n",
       "    </tr>\n",
       "  </thead>\n",
       "  <tbody>\n",
       "    <tr>\n",
       "      <th>1907</th>\n",
       "      <td>1706_2</td>\n",
       "      <td>\"We need an alternative way to delete just a p...</td>\n",
       "      <td>1</td>\n",
       "    </tr>\n",
       "    <tr>\n",
       "      <th>2319</th>\n",
       "      <td>1815_15</td>\n",
       "      <td>\"The hardware button seems to always pull up a...</td>\n",
       "      <td>0</td>\n",
       "    </tr>\n",
       "    <tr>\n",
       "      <th>7178</th>\n",
       "      <td>507</td>\n",
       "      <td>Debug build of the app is starting and working...</td>\n",
       "      <td>0</td>\n",
       "    </tr>\n",
       "    <tr>\n",
       "      <th>979</th>\n",
       "      <td>1218_1</td>\n",
       "      <td>\"Also, having a ShowContactTask would allow me...</td>\n",
       "      <td>0</td>\n",
       "    </tr>\n",
       "    <tr>\n",
       "      <th>2867</th>\n",
       "      <td>0_416</td>\n",
       "      <td>\"2, More events support for WebView: for examp...</td>\n",
       "      <td>0</td>\n",
       "    </tr>\n",
       "    <tr>\n",
       "      <th>2502</th>\n",
       "      <td>1872_3</td>\n",
       "      <td>\"Furthermore, upgrading that project to target...</td>\n",
       "      <td>0</td>\n",
       "    </tr>\n",
       "    <tr>\n",
       "      <th>8314</th>\n",
       "      <td>2414</td>\n",
       "      <td>I could hear my music become intermittently.</td>\n",
       "      <td>0</td>\n",
       "    </tr>\n",
       "    <tr>\n",
       "      <th>8499</th>\n",
       "      <td>2844</td>\n",
       "      <td>The Windows 10 Calender app show cases this fe...</td>\n",
       "      <td>0</td>\n",
       "    </tr>\n",
       "    <tr>\n",
       "      <th>4370</th>\n",
       "      <td>941_2</td>\n",
       "      <td>\"best regards and a happy new year Karsten Kle...</td>\n",
       "      <td>0</td>\n",
       "    </tr>\n",
       "    <tr>\n",
       "      <th>6604</th>\n",
       "      <td>4262</td>\n",
       "      <td>\"For example the minimum requirements: Operati...</td>\n",
       "      <td>0</td>\n",
       "    </tr>\n",
       "  </tbody>\n",
       "</table>\n",
       "</div>"
      ],
      "text/plain": [
       "            0                                                  1  2\n",
       "1907   1706_2  \"We need an alternative way to delete just a p...  1\n",
       "2319  1815_15  \"The hardware button seems to always pull up a...  0\n",
       "7178      507  Debug build of the app is starting and working...  0\n",
       "979    1218_1  \"Also, having a ShowContactTask would allow me...  0\n",
       "2867    0_416  \"2, More events support for WebView: for examp...  0\n",
       "2502   1872_3  \"Furthermore, upgrading that project to target...  0\n",
       "8314     2414       I could hear my music become intermittently.  0\n",
       "8499     2844  The Windows 10 Calender app show cases this fe...  0\n",
       "4370    941_2  \"best regards and a happy new year Karsten Kle...  0\n",
       "6604     4262  \"For example the minimum requirements: Operati...  0"
      ]
     },
     "execution_count": 8,
     "metadata": {},
     "output_type": "execute_result"
    }
   ],
   "source": [
    "combDf = Train.append([Test,Eval], ignore_index=True)\n",
    "combDf.sample(10)"
   ]
  },
  {
   "cell_type": "markdown",
   "metadata": {},
   "source": [
    "\n",
    "# Labeling the Columns"
   ]
  },
  {
   "cell_type": "code",
   "execution_count": 9,
   "metadata": {},
   "outputs": [
    {
     "data": {
      "text/html": [
       "<div>\n",
       "<style scoped>\n",
       "    .dataframe tbody tr th:only-of-type {\n",
       "        vertical-align: middle;\n",
       "    }\n",
       "\n",
       "    .dataframe tbody tr th {\n",
       "        vertical-align: top;\n",
       "    }\n",
       "\n",
       "    .dataframe thead th {\n",
       "        text-align: right;\n",
       "    }\n",
       "</style>\n",
       "<table border=\"1\" class=\"dataframe\">\n",
       "  <thead>\n",
       "    <tr style=\"text-align: right;\">\n",
       "      <th></th>\n",
       "      <th>ID</th>\n",
       "      <th>Sentence</th>\n",
       "      <th>Prediction</th>\n",
       "    </tr>\n",
       "  </thead>\n",
       "  <tbody>\n",
       "    <tr>\n",
       "      <th>4745</th>\n",
       "      <td>1027_2</td>\n",
       "      <td>\"\"Thank you for reaching out to Microsoft Wind...</td>\n",
       "      <td>0</td>\n",
       "    </tr>\n",
       "    <tr>\n",
       "      <th>4415</th>\n",
       "      <td>947_8</td>\n",
       "      <td>\"We would like to know when users remove their...</td>\n",
       "      <td>1</td>\n",
       "    </tr>\n",
       "    <tr>\n",
       "      <th>837</th>\n",
       "      <td>886_1</td>\n",
       "      <td>\"Silverlight doesn't work properly in IE 11, s...</td>\n",
       "      <td>0</td>\n",
       "    </tr>\n",
       "    <tr>\n",
       "      <th>990</th>\n",
       "      <td>1225_1</td>\n",
       "      <td>\"It would be much preferable to remove it from...</td>\n",
       "      <td>1</td>\n",
       "    </tr>\n",
       "    <tr>\n",
       "      <th>2168</th>\n",
       "      <td>1778_1</td>\n",
       "      <td>\"The request is now being called twice!\"</td>\n",
       "      <td>0</td>\n",
       "    </tr>\n",
       "    <tr>\n",
       "      <th>6698</th>\n",
       "      <td>4520</td>\n",
       "      <td>\"The current status only seems to show âIn P...</td>\n",
       "      <td>0</td>\n",
       "    </tr>\n",
       "    <tr>\n",
       "      <th>7566</th>\n",
       "      <td>1456</td>\n",
       "      <td>2) This limit appears to be arbitrary and not ...</td>\n",
       "      <td>0</td>\n",
       "    </tr>\n",
       "    <tr>\n",
       "      <th>8464</th>\n",
       "      <td>2766</td>\n",
       "      <td>The problem I found is that it currently show...</td>\n",
       "      <td>0</td>\n",
       "    </tr>\n",
       "    <tr>\n",
       "      <th>4025</th>\n",
       "      <td>0_1933</td>\n",
       "      <td>\"Lifehacker is a good example.\"</td>\n",
       "      <td>0</td>\n",
       "    </tr>\n",
       "    <tr>\n",
       "      <th>3690</th>\n",
       "      <td>0_1594</td>\n",
       "      <td>\"Please consider adding this type of feature t...</td>\n",
       "      <td>0</td>\n",
       "    </tr>\n",
       "  </tbody>\n",
       "</table>\n",
       "</div>"
      ],
      "text/plain": [
       "          ID                                           Sentence  Prediction\n",
       "4745  1027_2  \"\"Thank you for reaching out to Microsoft Wind...           0\n",
       "4415   947_8  \"We would like to know when users remove their...           1\n",
       "837    886_1  \"Silverlight doesn't work properly in IE 11, s...           0\n",
       "990   1225_1  \"It would be much preferable to remove it from...           1\n",
       "2168  1778_1           \"The request is now being called twice!\"           0\n",
       "6698    4520  \"The current status only seems to show âIn P...           0\n",
       "7566    1456  2) This limit appears to be arbitrary and not ...           0\n",
       "8464    2766   The problem I found is that it currently show...           0\n",
       "4025  0_1933                    \"Lifehacker is a good example.\"           0\n",
       "3690  0_1594  \"Please consider adding this type of feature t...           0"
      ]
     },
     "execution_count": 9,
     "metadata": {},
     "output_type": "execute_result"
    }
   ],
   "source": [
    "combDf.columns=['ID','Sentence','Prediction']\n",
    "combDf.sample(10)"
   ]
  },
  {
   "cell_type": "markdown",
   "metadata": {},
   "source": [
    "# Checking if their is any missing value"
   ]
  },
  {
   "cell_type": "code",
   "execution_count": 10,
   "metadata": {},
   "outputs": [
    {
     "data": {
      "text/html": [
       "<div>\n",
       "<style scoped>\n",
       "    .dataframe tbody tr th:only-of-type {\n",
       "        vertical-align: middle;\n",
       "    }\n",
       "\n",
       "    .dataframe tbody tr th {\n",
       "        vertical-align: top;\n",
       "    }\n",
       "\n",
       "    .dataframe thead th {\n",
       "        text-align: right;\n",
       "    }\n",
       "</style>\n",
       "<table border=\"1\" class=\"dataframe\">\n",
       "  <thead>\n",
       "    <tr style=\"text-align: right;\">\n",
       "      <th></th>\n",
       "      <th>ID</th>\n",
       "      <th>Sentence</th>\n",
       "    </tr>\n",
       "  </thead>\n",
       "  <tbody>\n",
       "    <tr>\n",
       "      <th>count</th>\n",
       "      <td>9925</td>\n",
       "      <td>9925</td>\n",
       "    </tr>\n",
       "    <tr>\n",
       "      <th>unique</th>\n",
       "      <td>9271</td>\n",
       "      <td>9925</td>\n",
       "    </tr>\n",
       "    <tr>\n",
       "      <th>top</th>\n",
       "      <td>1553</td>\n",
       "      <td>\"It was inspired by NotificationExtensions whe...</td>\n",
       "    </tr>\n",
       "    <tr>\n",
       "      <th>freq</th>\n",
       "      <td>2</td>\n",
       "      <td>1</td>\n",
       "    </tr>\n",
       "  </tbody>\n",
       "</table>\n",
       "</div>"
      ],
      "text/plain": [
       "          ID                                           Sentence\n",
       "count   9925                                               9925\n",
       "unique  9271                                               9925\n",
       "top     1553  \"It was inspired by NotificationExtensions whe...\n",
       "freq       2                                                  1"
      ]
     },
     "execution_count": 10,
     "metadata": {},
     "output_type": "execute_result"
    }
   ],
   "source": [
    "combDf.describe(include=['O'])"
   ]
  },
  {
   "cell_type": "markdown",
   "metadata": {},
   "source": [
    "Counting how many sentences are 0 and 1"
   ]
  },
  {
   "cell_type": "code",
   "execution_count": 11,
   "metadata": {},
   "outputs": [
    {
     "name": "stdout",
     "output_type": "stream",
     "text": [
      "0    6415\n",
      "1    2085\n",
      "5     592\n",
      "6     833\n",
      "dtype: int64\n"
     ]
    }
   ],
   "source": [
    "word_count=pd.value_counts(combDf['Prediction'].values, sort=False)\n",
    "print(word_count)\n",
    "word_count=word_count[:2]"
   ]
  },
  {
   "cell_type": "markdown",
   "metadata": {},
   "source": [
    "Show the count in Barplot"
   ]
  },
  {
   "cell_type": "code",
   "execution_count": 12,
   "metadata": {},
   "outputs": [
    {
     "data": {
      "image/png": "[encoded data removed]",
      "text/plain": [
       "<Figure size 1080x576 with 1 Axes>"
      ]
     },
     "metadata": {},
     "output_type": "display_data"
    }
   ],
   "source": [
    "Index = [1,2]\n",
    "plt.figure(figsize=(15,8))\n",
    "plt.bar(Index,word_count,color = 'blue')\n",
    "plt.xticks(Index,[0,1], fontweight='bold')\n",
    "plt.ylabel('word_count')\n",
    "plt.xlabel('word')\n",
    "plt.title('Count of Moods')\n",
    "plt.bar(Index, word_count)\n",
    "for a,b in zip(Index, word_count):\n",
    "    plt.text(a, b, str(b) ,color='green', fontweight='bold')"
   ]
  },
  {
   "cell_type": "markdown",
   "metadata": {},
   "source": [
    "# Conveting the Sentence to LowerCase"
   ]
  },
  {
   "cell_type": "code",
   "execution_count": 13,
   "metadata": {},
   "outputs": [
    {
     "data": {
      "text/html": [
       "<div>\n",
       "<style scoped>\n",
       "    .dataframe tbody tr th:only-of-type {\n",
       "        vertical-align: middle;\n",
       "    }\n",
       "\n",
       "    .dataframe tbody tr th {\n",
       "        vertical-align: top;\n",
       "    }\n",
       "\n",
       "    .dataframe thead th {\n",
       "        text-align: right;\n",
       "    }\n",
       "</style>\n",
       "<table border=\"1\" class=\"dataframe\">\n",
       "  <thead>\n",
       "    <tr style=\"text-align: right;\">\n",
       "      <th></th>\n",
       "      <th>ID</th>\n",
       "      <th>Sentence</th>\n",
       "      <th>Prediction</th>\n",
       "    </tr>\n",
       "  </thead>\n",
       "  <tbody>\n",
       "    <tr>\n",
       "      <th>3101</th>\n",
       "      <td>0_673</td>\n",
       "      <td>\"_ more\"\"</td>\n",
       "      <td>0</td>\n",
       "    </tr>\n",
       "    <tr>\n",
       "      <th>4885</th>\n",
       "      <td>755</td>\n",
       "      <td>\"i think we can support this by adding a simpl...</td>\n",
       "      <td>1</td>\n",
       "    </tr>\n",
       "    <tr>\n",
       "      <th>5687</th>\n",
       "      <td>1510</td>\n",
       "      <td>\"a good web example can be found here\"</td>\n",
       "      <td>0</td>\n",
       "    </tr>\n",
       "    <tr>\n",
       "      <th>6839</th>\n",
       "      <td>4051</td>\n",
       "      <td>\"merging them into a single installer would be...</td>\n",
       "      <td>1</td>\n",
       "    </tr>\n",
       "    <tr>\n",
       "      <th>3900</th>\n",
       "      <td>0_1804</td>\n",
       "      <td>\"i'd love to pay $10/year just for evernote in...</td>\n",
       "      <td>1</td>\n",
       "    </tr>\n",
       "    <tr>\n",
       "      <th>9810</th>\n",
       "      <td>5940</td>\n",
       "      <td>there appears to be no way to deploy an app to...</td>\n",
       "      <td>6</td>\n",
       "    </tr>\n",
       "    <tr>\n",
       "      <th>6543</th>\n",
       "      <td>4091</td>\n",
       "      <td>\"the store does not allow a developer to updat...</td>\n",
       "      <td>0</td>\n",
       "    </tr>\n",
       "  </tbody>\n",
       "</table>\n",
       "</div>"
      ],
      "text/plain": [
       "          ID                                           Sentence  Prediction\n",
       "3101   0_673                                          \"_ more\"\"           0\n",
       "4885     755  \"i think we can support this by adding a simpl...           1\n",
       "5687    1510             \"a good web example can be found here\"           0\n",
       "6839    4051  \"merging them into a single installer would be...           1\n",
       "3900  0_1804  \"i'd love to pay $10/year just for evernote in...           1\n",
       "9810    5940  there appears to be no way to deploy an app to...           6\n",
       "6543    4091  \"the store does not allow a developer to updat...           0"
      ]
     },
     "execution_count": 13,
     "metadata": {},
     "output_type": "execute_result"
    }
   ],
   "source": [
    "combDf[\"Sentence\"] = combDf[\"Sentence\"].str.lower()\n",
    "combDf.sample(7)"
   ]
  },
  {
   "cell_type": "markdown",
   "metadata": {},
   "source": [
    "# Defining function to remove patterns "
   ]
  },
  {
   "cell_type": "code",
   "execution_count": 14,
   "metadata": {},
   "outputs": [],
   "source": [
    "def remove_pat(s1, pat, nstr):\n",
    "    return re.sub(pat, nstr, s1)"
   ]
  },
  {
   "cell_type": "markdown",
   "metadata": {},
   "source": [
    "# Removing special Characters"
   ]
  },
  {
   "cell_type": "code",
   "execution_count": 15,
   "metadata": {},
   "outputs": [
    {
     "data": {
      "text/html": [
       "<div>\n",
       "<style scoped>\n",
       "    .dataframe tbody tr th:only-of-type {\n",
       "        vertical-align: middle;\n",
       "    }\n",
       "\n",
       "    .dataframe tbody tr th {\n",
       "        vertical-align: top;\n",
       "    }\n",
       "\n",
       "    .dataframe thead th {\n",
       "        text-align: right;\n",
       "    }\n",
       "</style>\n",
       "<table border=\"1\" class=\"dataframe\">\n",
       "  <thead>\n",
       "    <tr style=\"text-align: right;\">\n",
       "      <th></th>\n",
       "      <th>ID</th>\n",
       "      <th>Sentence</th>\n",
       "      <th>Prediction</th>\n",
       "      <th>New</th>\n",
       "    </tr>\n",
       "  </thead>\n",
       "  <tbody>\n",
       "    <tr>\n",
       "      <th>5693</th>\n",
       "      <td>1521</td>\n",
       "      <td>\"ive also tried bindings.update - bit this doe...</td>\n",
       "      <td>0</td>\n",
       "      <td>ive also tried bindings update bit this does ...</td>\n",
       "    </tr>\n",
       "    <tr>\n",
       "      <th>1364</th>\n",
       "      <td>1380_3</td>\n",
       "      <td>\"i cloud be only set the start point or not.\"</td>\n",
       "      <td>0</td>\n",
       "      <td>i cloud be only set the start point or not</td>\n",
       "    </tr>\n",
       "    <tr>\n",
       "      <th>8951</th>\n",
       "      <td>160723</td>\n",
       "      <td>\"extended ability to highlight text or links w...</td>\n",
       "      <td>5</td>\n",
       "      <td>extended ability to highlight text or links w...</td>\n",
       "    </tr>\n",
       "    <tr>\n",
       "      <th>2114</th>\n",
       "      <td>1760_13</td>\n",
       "      <td>\"ssdp (used in upnp) relies on udp multicast f...</td>\n",
       "      <td>0</td>\n",
       "      <td>ssdp used in upnp relies on udp multicast for...</td>\n",
       "    </tr>\n",
       "    <tr>\n",
       "      <th>5235</th>\n",
       "      <td>213</td>\n",
       "      <td>\"what would i do?\"</td>\n",
       "      <td>0</td>\n",
       "      <td>what would i do</td>\n",
       "    </tr>\n",
       "    <tr>\n",
       "      <th>5210</th>\n",
       "      <td>145</td>\n",
       "      <td>\"the issue seems to be somewhere in windows.ui...</td>\n",
       "      <td>0</td>\n",
       "      <td>the issue seems to be somewhere in windows ui...</td>\n",
       "    </tr>\n",
       "    <tr>\n",
       "      <th>9883</th>\n",
       "      <td>6201</td>\n",
       "      <td>both apple and google allows us to create user...</td>\n",
       "      <td>6</td>\n",
       "      <td>both apple and google allows us to create user...</td>\n",
       "    </tr>\n",
       "    <tr>\n",
       "      <th>5625</th>\n",
       "      <td>1277</td>\n",
       "      <td>\"here are some examples\"</td>\n",
       "      <td>0</td>\n",
       "      <td>here are some examples</td>\n",
       "    </tr>\n",
       "    <tr>\n",
       "      <th>7155</th>\n",
       "      <td>464</td>\n",
       "      <td>so this crash is not the problem reported by t...</td>\n",
       "      <td>0</td>\n",
       "      <td>so this crash is not the problem reported by t...</td>\n",
       "    </tr>\n",
       "    <tr>\n",
       "      <th>1458</th>\n",
       "      <td>1450_1</td>\n",
       "      <td>\"it would be great to have this feature.\"</td>\n",
       "      <td>1</td>\n",
       "      <td>it would be great to have this feature</td>\n",
       "    </tr>\n",
       "  </tbody>\n",
       "</table>\n",
       "</div>"
      ],
      "text/plain": [
       "           ID                                           Sentence  Prediction  \\\n",
       "5693     1521  \"ive also tried bindings.update - bit this doe...           0   \n",
       "1364   1380_3      \"i cloud be only set the start point or not.\"           0   \n",
       "8951   160723  \"extended ability to highlight text or links w...           5   \n",
       "2114  1760_13  \"ssdp (used in upnp) relies on udp multicast f...           0   \n",
       "5235      213                                 \"what would i do?\"           0   \n",
       "5210      145  \"the issue seems to be somewhere in windows.ui...           0   \n",
       "9883     6201  both apple and google allows us to create user...           6   \n",
       "5625     1277                           \"here are some examples\"           0   \n",
       "7155      464  so this crash is not the problem reported by t...           0   \n",
       "1458   1450_1          \"it would be great to have this feature.\"           1   \n",
       "\n",
       "                                                    New  \n",
       "5693   ive also tried bindings update bit this does ...  \n",
       "1364        i cloud be only set the start point or not   \n",
       "8951   extended ability to highlight text or links w...  \n",
       "2114   ssdp used in upnp relies on udp multicast for...  \n",
       "5235                                   what would i do   \n",
       "5210   the issue seems to be somewhere in windows ui...  \n",
       "9883  both apple and google allows us to create user...  \n",
       "5625                            here are some examples   \n",
       "7155  so this crash is not the problem reported by t...  \n",
       "1458            it would be great to have this feature   "
      ]
     },
     "execution_count": 15,
     "metadata": {},
     "output_type": "execute_result"
    }
   ],
   "source": [
    "combDf[\"New\"] = np.vectorize(remove_pat)(combDf[\"Sentence\"], \"[^a-zA-Z#]+\", \" \")\n",
    "combDf.sample(10)"
   ]
  },
  {
   "cell_type": "markdown",
   "metadata": {},
   "source": [
    "# Combining all sentences"
   ]
  },
  {
   "cell_type": "code",
   "execution_count": 16,
   "metadata": {},
   "outputs": [],
   "source": [
    "all_words = ' '.join([text for text in combDf['New']])"
   ]
  },
  {
   "cell_type": "markdown",
   "metadata": {},
   "source": [
    "# Removing Stop Words"
   ]
  },
  {
   "cell_type": "code",
   "execution_count": 17,
   "metadata": {},
   "outputs": [],
   "source": [
    "from nltk.corpus import stopwords \n",
    "from nltk.tokenize import word_tokenize \n",
    "  \n",
    "stop_words = set(stopwords.words('english')) \n",
    "  \n",
    "word_tokens = word_tokenize(all_words) \n",
    "  \n",
    "filtered_sentence = [w for w in word_tokens if not w in stop_words] \n",
    "  \n",
    "filtered_sentence = [] \n",
    "  \n",
    "for w in word_tokens: \n",
    "    if w not in stop_words: \n",
    "        filtered_sentence.append(w) "
   ]
  },
  {
   "cell_type": "markdown",
   "metadata": {},
   "source": [
    "# Creating Frequency List "
   ]
  },
  {
   "cell_type": "markdown",
   "metadata": {},
   "source": [
    "Counting the number of times a word present"
   ]
  },
  {
   "cell_type": "code",
   "execution_count": 18,
   "metadata": {},
   "outputs": [],
   "source": [
    "freq = nltk.FreqDist(filtered_sentence) \n",
    "for key,val in freq.items(): \n",
    "    (str(key) + ':' + str(val))"
   ]
  },
  {
   "cell_type": "markdown",
   "metadata": {},
   "source": [
    "# Detokenizing the Words"
   ]
  },
  {
   "cell_type": "markdown",
   "metadata": {},
   "source": [
    "Converting Token to Sentence"
   ]
  },
  {
   "cell_type": "code",
   "execution_count": 19,
   "metadata": {},
   "outputs": [],
   "source": [
    "from nltk.tokenize.treebank import TreebankWordDetokenizer\n",
    "filtered_sentence=TreebankWordDetokenizer().detokenize(filtered_sentence)"
   ]
  },
  {
   "cell_type": "markdown",
   "metadata": {},
   "source": [
    "# Creating WordCloud"
   ]
  },
  {
   "cell_type": "code",
   "execution_count": 20,
   "metadata": {},
   "outputs": [
    {
     "data": {
      "image/png": "[encoded data removed]",
      "text/plain": [
       "<Figure size 720x504 with 1 Axes>"
      ]
     },
     "metadata": {},
     "output_type": "display_data"
    }
   ],
   "source": [
    "from wordcloud import WordCloud\n",
    "wordcloud = WordCloud(width=800, height=500, random_state=21, max_font_size=110).generate(filtered_sentence)\n",
    "plt.figure(figsize=(10, 7))\n",
    "plt.imshow(wordcloud)\n",
    "plt.show()"
   ]
  },
  {
   "cell_type": "markdown",
   "metadata": {},
   "source": [
    "# Creating FreqDist Graph"
   ]
  },
  {
   "cell_type": "code",
   "execution_count": 21,
   "metadata": {},
   "outputs": [
    {
     "data": {
      "image/png": "[encoded data removed]",
      "text/plain": [
       "<Figure size 1152x360 with 1 Axes>"
      ]
     },
     "metadata": {},
     "output_type": "display_data"
    }
   ],
   "source": [
    "a = nltk.FreqDist(filtered_sentence.split())\n",
    "d = pd.DataFrame({'Word': list(a.keys()),\n",
    "                  'Count': list(a.values())})\n",
    "\n",
    "d = d.nlargest(columns=\"Count\", n = 20) \n",
    "plt.figure(figsize=(16,5))\n",
    "ax = sns.barplot(data=d, x= \"Word\", y = \"Count\")\n",
    "ax.set_xticklabels(d[\"Word\"], rotation=40, ha=\"right\")\n",
    "ax.set(ylabel = 'Count')\n",
    "plt.show()"
   ]
  },
  {
   "cell_type": "markdown",
   "metadata": {},
   "source": [
    "# Creating Sparse Matrix"
   ]
  },
  {
   "cell_type": "markdown",
   "metadata": {},
   "source": [
    "Created a BagofWords(BOW) using TfidfVectorizer"
   ]
  },
  {
   "cell_type": "code",
   "execution_count": 22,
   "metadata": {},
   "outputs": [
    {
     "name": "stdout",
     "output_type": "stream",
     "text": [
      "(8500, 3000)\n"
     ]
    },
    {
     "data": {
      "text/html": [
       "<div>\n",
       "<style scoped>\n",
       "    .dataframe tbody tr th:only-of-type {\n",
       "        vertical-align: middle;\n",
       "    }\n",
       "\n",
       "    .dataframe tbody tr th {\n",
       "        vertical-align: top;\n",
       "    }\n",
       "\n",
       "    .dataframe thead th {\n",
       "        text-align: right;\n",
       "    }\n",
       "</style>\n",
       "<table border=\"1\" class=\"dataframe\">\n",
       "  <thead>\n",
       "    <tr style=\"text-align: right;\">\n",
       "      <th></th>\n",
       "      <th>ID</th>\n",
       "      <th>Sentence</th>\n",
       "      <th>Prediction</th>\n",
       "      <th>New</th>\n",
       "    </tr>\n",
       "  </thead>\n",
       "  <tbody>\n",
       "    <tr>\n",
       "      <th>0</th>\n",
       "      <td>663_3</td>\n",
       "      <td>\"please enable removing language code from the...</td>\n",
       "      <td>1</td>\n",
       "      <td>please enable removing language code from the...</td>\n",
       "    </tr>\n",
       "    <tr>\n",
       "      <th>1</th>\n",
       "      <td>663_4</td>\n",
       "      <td>\"note: in your .csproj file, there is a suppor...</td>\n",
       "      <td>0</td>\n",
       "      <td>note in your csproj file there is a supported...</td>\n",
       "    </tr>\n",
       "    <tr>\n",
       "      <th>2</th>\n",
       "      <td>664_1</td>\n",
       "      <td>\"wich means the new version not fully replaced...</td>\n",
       "      <td>0</td>\n",
       "      <td>wich means the new version not fully replaced...</td>\n",
       "    </tr>\n",
       "    <tr>\n",
       "      <th>3</th>\n",
       "      <td>664_2</td>\n",
       "      <td>\"some of my users will still receive the old x...</td>\n",
       "      <td>0</td>\n",
       "      <td>some of my users will still receive the old x...</td>\n",
       "    </tr>\n",
       "    <tr>\n",
       "      <th>4</th>\n",
       "      <td>664_3</td>\n",
       "      <td>\"the store randomly gives the old xap or the n...</td>\n",
       "      <td>0</td>\n",
       "      <td>the store randomly gives the old xap or the n...</td>\n",
       "    </tr>\n",
       "  </tbody>\n",
       "</table>\n",
       "</div>"
      ],
      "text/plain": [
       "      ID                                           Sentence  Prediction  \\\n",
       "0  663_3  \"please enable removing language code from the...           1   \n",
       "1  663_4  \"note: in your .csproj file, there is a suppor...           0   \n",
       "2  664_1  \"wich means the new version not fully replaced...           0   \n",
       "3  664_2  \"some of my users will still receive the old x...           0   \n",
       "4  664_3  \"the store randomly gives the old xap or the n...           0   \n",
       "\n",
       "                                                 New  \n",
       "0   please enable removing language code from the...  \n",
       "1   note in your csproj file there is a supported...  \n",
       "2   wich means the new version not fully replaced...  \n",
       "3   some of my users will still receive the old x...  \n",
       "4   the store randomly gives the old xap or the n...  "
      ]
     },
     "execution_count": 22,
     "metadata": {},
     "output_type": "execute_result"
    }
   ],
   "source": [
    "from sklearn.feature_extraction.text import TfidfVectorizer\n",
    "\n",
    "df = combDf[combDf[\"Prediction\"].isin([0,1])] \n",
    "tfidf_vectorizer = TfidfVectorizer(max_df=0.90, min_df=2, max_features=3000, stop_words='english')\n",
    "bow = tfidf_vectorizer.fit_transform(df['New'])\n",
    "# print(df.shape)\n",
    "print(bow.shape)\n",
    "df.head()"
   ]
  },
  {
   "cell_type": "markdown",
   "metadata": {},
   "source": [
    "# Creating Baseline model"
   ]
  },
  {
   "cell_type": "markdown",
   "metadata": {},
   "source": [
    "Creating a model using XGBClassifier"
   ]
  },
  {
   "cell_type": "code",
   "execution_count": 23,
   "metadata": {},
   "outputs": [],
   "source": [
    "from sklearn.model_selection import train_test_split\n",
    "from sklearn.metrics import confusion_matrix\n",
    "from sklearn.model_selection import RandomizedSearchCV\n",
    "from xgboost import XGBClassifier\n",
    "X = bow\n",
    "y = df[\"Prediction\"]"
   ]
  },
  {
   "cell_type": "markdown",
   "metadata": {},
   "source": [
    "Doing Hyperperameter Tunning to avoid Overfitting"
   ]
  },
  {
   "cell_type": "code",
   "execution_count": 24,
   "metadata": {},
   "outputs": [
    {
     "data": {
      "text/plain": [
       "{'subsample': 0.5,\n",
       " 'min_child_weight ': 4,\n",
       " 'max_depth ': 10,\n",
       " 'gamma': 6,\n",
       " 'eta': 0.01}"
      ]
     },
     "execution_count": 24,
     "metadata": {},
     "output_type": "execute_result"
    }
   ],
   "source": [
    "model = XGBClassifier()\n",
    "n_estimators = [int(x) for x in np.linspace(start=1, stop=200, num = 4)]\n",
    "max_features = ['auto', 'sqrt']\n",
    "max_depth = [int(x) for x in np.linspace(1, 50, num = 11)]\n",
    "max_depth.append(None)\n",
    "min_samples_split = [2, 3, 5, 10]\n",
    "min_samples_leaf = [1, 2, 4]\n",
    "bootstrap = [True, False]\n",
    "\n",
    "random_grid = {'eta': [x for x in np.linspace(start=0.01, stop=0.2, num = 4)],\n",
    "               'min_child_weight ': [int(x) for x in np.linspace(start=1, stop=11, num = 4)],\n",
    "               'max_depth ': [int(x) for x in np.linspace(start=3, stop=10, num = 4)],\n",
    "               'gamma': [int(x) for x in np.linspace(start=0, stop=10, num = 4)],\n",
    "               'subsample': [x for x in np.linspace(start=0.5, stop=1, num = 4)]}\n",
    "rf_random = RandomizedSearchCV(estimator = model, param_distributions = random_grid, cv = 3)\n",
    "X_train, X_test, y_train, y_test = train_test_split(X, y, test_size=0.2)\n",
    "rf_random.fit(X_train, y_train)\n",
    "rf_random.best_params_"
   ]
  },
  {
   "cell_type": "markdown",
   "metadata": {},
   "source": [
    "For prediction the test data making the BagofWords(BOW) of Testdata"
   ]
  },
  {
   "cell_type": "code",
   "execution_count": 25,
   "metadata": {},
   "outputs": [
    {
     "name": "stdout",
     "output_type": "stream",
     "text": [
      "          0                                                  1  2\n",
      "275   15202  \"Provide preference setting to categorize apps...  5\n",
      "80   136110  \"Detect when there is a screen shot attempt so...  5\n",
      "295   15363    \" true); I have tested this and it works fine.\"  5\n",
      "570   16442  \"I took a while until I realized that I forgot...  5\n",
      "157   14213  \"Perhaps that could be available as Toolkit in...  5\n",
      "62    13491  \"This API proposal would enable the user to se...  5\n",
      "461   16113  \"Then later when i want to continue playing fr...  5\n",
      "412   16021                             \"It's just not right.\"  5\n",
      "277   15204  \"Please get metequotes to make metatrader for ...  5\n",
      "125   14041  \"HP have the ePrint functionality, Apple the A...  5\n"
     ]
    }
   ],
   "source": [
    "print(Test.sample(10))\n",
    "bow = tfidf_vectorizer.transform(Test[1])\n",
    "A = bow"
   ]
  },
  {
   "cell_type": "markdown",
   "metadata": {},
   "source": [
    "Reading SubtaskA_Trial_Test_Labeled.csv file in which Test Dataset labels are present"
   ]
  },
  {
   "cell_type": "code",
   "execution_count": 26,
   "metadata": {},
   "outputs": [
    {
     "data": {
      "text/plain": [
       "0    1\n",
       "1    0\n",
       "2    0\n",
       "3    0\n",
       "4    1\n",
       "Name: label, dtype: int64"
      ]
     },
     "execution_count": 26,
     "metadata": {},
     "output_type": "execute_result"
    }
   ],
   "source": [
    "B=pd.read_csv(\"SubtaskA_Trial_Test_Labeled.csv\",encoding = \"ISO-8859-1\")\n",
    "B.head()\n",
    "B=B[\"label\"]\n",
    "B.head()"
   ]
  },
  {
   "cell_type": "markdown",
   "metadata": {},
   "source": [
    "# Using Best Parameter predicting the score of test dataset and Printing the Confusion Matrix"
   ]
  },
  {
   "cell_type": "code",
   "execution_count": 27,
   "metadata": {},
   "outputs": [
    {
     "name": "stdout",
     "output_type": "stream",
     "text": [
      "0.6216216216216216\n"
     ]
    },
    {
     "data": {
      "text/plain": [
       "array([[276, 204],\n",
       "       [ 20,  92]], dtype=int64)"
      ]
     },
     "execution_count": 27,
     "metadata": {},
     "output_type": "execute_result"
    }
   ],
   "source": [
    "model = XGBClassifier(**rf_random.best_params_)\n",
    "model.fit(X_train, y_train)\n",
    "print(model.score(A,B))\n",
    "yp = model.predict(A)\n",
    "cm = confusion_matrix(yp,B)\n",
    "y_test[y_test==1].count()\n",
    "cm"
   ]
  },
  {
   "cell_type": "markdown",
   "metadata": {},
   "source": [
    "# Classification based on threshold"
   ]
  },
  {
   "cell_type": "code",
   "execution_count": 28,
   "metadata": {},
   "outputs": [
    {
     "data": {
      "text/plain": [
       "array([[200,  80],\n",
       "       [ 96, 216]], dtype=int64)"
      ]
     },
     "execution_count": 28,
     "metadata": {},
     "output_type": "execute_result"
    }
   ],
   "source": [
    "threshold = 0.2\n",
    "yp2_prob = model.predict_proba(A)\n",
    "yp2 = (yp2_prob [:,1] >= threshold).astype('int')\n",
    "cm = confusion_matrix(yp2, B)\n",
    "y_test[y_test==1].count()\n",
    "cm"
   ]
  },
  {
   "cell_type": "markdown",
   "metadata": {},
   "source": [
    "for prediction Evaluation Dataset Extracting Evaluation Data from combDf "
   ]
  },
  {
   "cell_type": "code",
   "execution_count": 29,
   "metadata": {},
   "outputs": [
    {
     "name": "stdout",
     "output_type": "stream",
     "text": [
      "(833, 4)\n"
     ]
    },
    {
     "data": {
      "text/html": [
       "<div>\n",
       "<style scoped>\n",
       "    .dataframe tbody tr th:only-of-type {\n",
       "        vertical-align: middle;\n",
       "    }\n",
       "\n",
       "    .dataframe tbody tr th {\n",
       "        vertical-align: top;\n",
       "    }\n",
       "\n",
       "    .dataframe thead th {\n",
       "        text-align: right;\n",
       "    }\n",
       "</style>\n",
       "<table border=\"1\" class=\"dataframe\">\n",
       "  <thead>\n",
       "    <tr style=\"text-align: right;\">\n",
       "      <th></th>\n",
       "      <th>ID</th>\n",
       "      <th>Sentence</th>\n",
       "      <th>Prediction</th>\n",
       "      <th>New</th>\n",
       "    </tr>\n",
       "  </thead>\n",
       "  <tbody>\n",
       "    <tr>\n",
       "      <th>9092</th>\n",
       "      <td>9566</td>\n",
       "      <td>this would enable live traffic aware apps.</td>\n",
       "      <td>6</td>\n",
       "      <td>this would enable live traffic aware apps</td>\n",
       "    </tr>\n",
       "    <tr>\n",
       "      <th>9093</th>\n",
       "      <td>9569</td>\n",
       "      <td>please try other formatting like bold italics ...</td>\n",
       "      <td>6</td>\n",
       "      <td>please try other formatting like bold italics ...</td>\n",
       "    </tr>\n",
       "    <tr>\n",
       "      <th>9094</th>\n",
       "      <td>9576</td>\n",
       "      <td>since computers were invented to save time i s...</td>\n",
       "      <td>6</td>\n",
       "      <td>since computers were invented to save time i s...</td>\n",
       "    </tr>\n",
       "    <tr>\n",
       "      <th>9095</th>\n",
       "      <td>9577</td>\n",
       "      <td>allow rearranging if the user wants to change ...</td>\n",
       "      <td>6</td>\n",
       "      <td>allow rearranging if the user wants to change ...</td>\n",
       "    </tr>\n",
       "    <tr>\n",
       "      <th>9096</th>\n",
       "      <td>9579</td>\n",
       "      <td>add simd instructions for better use of arm ne...</td>\n",
       "      <td>6</td>\n",
       "      <td>add simd instructions for better use of arm ne...</td>\n",
       "    </tr>\n",
       "  </tbody>\n",
       "</table>\n",
       "</div>"
      ],
      "text/plain": [
       "        ID                                           Sentence  Prediction  \\\n",
       "9092  9566         this would enable live traffic aware apps.           6   \n",
       "9093  9569  please try other formatting like bold italics ...           6   \n",
       "9094  9576  since computers were invented to save time i s...           6   \n",
       "9095  9577  allow rearranging if the user wants to change ...           6   \n",
       "9096  9579  add simd instructions for better use of arm ne...           6   \n",
       "\n",
       "                                                    New  \n",
       "9092         this would enable live traffic aware apps   \n",
       "9093  please try other formatting like bold italics ...  \n",
       "9094  since computers were invented to save time i s...  \n",
       "9095  allow rearranging if the user wants to change ...  \n",
       "9096  add simd instructions for better use of arm ne...  "
      ]
     },
     "execution_count": 29,
     "metadata": {},
     "output_type": "execute_result"
    }
   ],
   "source": [
    "EvalPridct=combDf[combDf[\"Prediction\"].isin([6])]\n",
    "print(EvalPridct.shape)\n",
    "EvalPridct.head()"
   ]
  },
  {
   "cell_type": "markdown",
   "metadata": {},
   "source": [
    "Creating BagofWords(BOW) of Evaluation data"
   ]
  },
  {
   "cell_type": "code",
   "execution_count": 30,
   "metadata": {},
   "outputs": [
    {
     "data": {
      "text/plain": [
       "(833, 3000)"
      ]
     },
     "execution_count": 30,
     "metadata": {},
     "output_type": "execute_result"
    }
   ],
   "source": [
    "bowEval = tfidf_vectorizer.transform(EvalPridct[\"New\"])\n",
    "bowEval.shape"
   ]
  },
  {
   "cell_type": "markdown",
   "metadata": {},
   "source": [
    "# Predicting the outcome of Evaluation data"
   ]
  },
  {
   "cell_type": "code",
   "execution_count": 31,
   "metadata": {},
   "outputs": [],
   "source": [
    "yp1 = model.predict(bowEval)"
   ]
  },
  {
   "cell_type": "markdown",
   "metadata": {},
   "source": [
    "# Creating submission.csv file "
   ]
  },
  {
   "cell_type": "code",
   "execution_count": 32,
   "metadata": {},
   "outputs": [],
   "source": [
    "a=Eval[0]\n",
    "b=Eval[1]\n",
    "sub=pd.DataFrame({\n",
    "    \"Id\":a,\n",
    "    \"sentence\":b,\n",
    "    \"Prediction\":yp1\n",
    "})\n",
    "sub.to_csv('submission.csv',index=False,header=False)"
   ]
  }
 ],
 "metadata": {
  "kernelspec": {
   "display_name": "Python 3",
   "language": "python",
   "name": "python3"
  },
  "language_info": {
   "codemirror_mode": {
    "name": "ipython",
    "version": 3
   },
   "file_extension": ".py",
   "mimetype": "text/x-python",
   "name": "python",
   "nbconvert_exporter": "python",
   "pygments_lexer": "ipython3",
   "version": "3.6.5"
  }
 },
 "nbformat": 4,
 "nbformat_minor": 2
}
